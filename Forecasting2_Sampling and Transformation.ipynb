{
 "cells": [
  {
   "cell_type": "code",
   "execution_count": 7,
   "id": "6d5b10dd",
   "metadata": {},
   "outputs": [
    {
     "name": "stderr",
     "output_type": "stream",
     "text": [
      "<ipython-input-7-5b489f4d910b>:2: FutureWarning: The pandas.datetime class is deprecated and will be removed from pandas in a future version. Import from datetime module instead.\n",
      "  from pandas import datetime\n"
     ]
    }
   ],
   "source": [
    "import pandas as pd\n",
    "from pandas import datetime\n",
    "import matplotlib.pyplot as plt"
   ]
  },
  {
   "cell_type": "markdown",
   "id": "67847b22",
   "metadata": {},
   "source": [
    "# Sampling"
   ]
  },
  {
   "cell_type": "code",
   "execution_count": 8,
   "id": "82a91621",
   "metadata": {},
   "outputs": [],
   "source": [
    "sales = pd.read_csv(\"G:/data sceince/Python/Forecasting/sales.csv\", header = 0, index_col = 0, parse_dates = True, squeeze = True)"
   ]
  },
  {
   "cell_type": "code",
   "execution_count": 9,
   "id": "c89e7112",
   "metadata": {},
   "outputs": [
    {
     "data": {
      "text/plain": [
       "Month\n",
       "1990-01-01    266.0\n",
       "1990-02-01    145.9\n",
       "1990-03-01    183.1\n",
       "1990-04-01    119.3\n",
       "1990-05-01    180.3\n",
       "1990-06-01    168.5\n",
       "1990-07-01    231.8\n",
       "1990-08-01    224.5\n",
       "1990-09-01    192.8\n",
       "1990-10-01    122.9\n",
       "1990-11-01    336.5\n",
       "1990-12-01    185.9\n",
       "1991-01-01    194.3\n",
       "1991-02-01    149.5\n",
       "1991-03-01    210.1\n",
       "1991-04-01    273.3\n",
       "1991-05-01    191.4\n",
       "1991-06-01    287.0\n",
       "1991-07-01    226.0\n",
       "1991-08-01    303.6\n",
       "1991-09-01    289.9\n",
       "1991-10-01    421.6\n",
       "1991-11-01    264.5\n",
       "1991-12-01    342.3\n",
       "1992-01-01    339.7\n",
       "1992-02-01    440.4\n",
       "1992-03-01    315.9\n",
       "1992-04-01    439.3\n",
       "1992-05-01    401.3\n",
       "1992-06-01    437.4\n",
       "1992-07-01    575.5\n",
       "1992-08-01    407.6\n",
       "1992-09-01    682.0\n",
       "1992-10-01    475.3\n",
       "1992-11-01    581.3\n",
       "1992-12-01    646.9\n",
       "Name: Sales, dtype: float64"
      ]
     },
     "execution_count": 9,
     "metadata": {},
     "output_type": "execute_result"
    }
   ],
   "source": [
    "sales"
   ]
  },
  {
   "cell_type": "code",
   "execution_count": 11,
   "id": "fe7e12dd",
   "metadata": {},
   "outputs": [
    {
     "name": "stdout",
     "output_type": "stream",
     "text": [
      "Month\n",
      "1990-01-01    266.0\n",
      "1990-01-02      NaN\n",
      "1990-01-03      NaN\n",
      "1990-01-04      NaN\n",
      "1990-01-05      NaN\n",
      "1990-01-06      NaN\n",
      "1990-01-07      NaN\n",
      "1990-01-08      NaN\n",
      "1990-01-09      NaN\n",
      "1990-01-10      NaN\n",
      "1990-01-11      NaN\n",
      "1990-01-12      NaN\n",
      "1990-01-13      NaN\n",
      "1990-01-14      NaN\n",
      "1990-01-15      NaN\n",
      "1990-01-16      NaN\n",
      "1990-01-17      NaN\n",
      "1990-01-18      NaN\n",
      "1990-01-19      NaN\n",
      "1990-01-20      NaN\n",
      "1990-01-21      NaN\n",
      "1990-01-22      NaN\n",
      "1990-01-23      NaN\n",
      "1990-01-24      NaN\n",
      "1990-01-25      NaN\n",
      "1990-01-26      NaN\n",
      "1990-01-27      NaN\n",
      "1990-01-28      NaN\n",
      "1990-01-29      NaN\n",
      "1990-01-30      NaN\n",
      "1990-01-31      NaN\n",
      "1990-02-01    145.9\n",
      "Freq: D, Name: Sales, dtype: float64\n"
     ]
    }
   ],
   "source": [
    "# Upsampling the data\n",
    "\n",
    "upsampled = sales.resample('D').mean()                 # resample(\"D\") means we are performing upsampling on our data and as the data we have is monthly data so for upsampling those months will be converted to days hence we have used \"D\" there.\n",
    "print(upsampled.head(32))"
   ]
  },
  {
   "cell_type": "markdown",
   "id": "164a2e59",
   "metadata": {},
   "source": [
    "Data is converted to day wise frequency"
   ]
  },
  {
   "cell_type": "code",
   "execution_count": 12,
   "id": "d803caef",
   "metadata": {},
   "outputs": [
    {
     "name": "stdout",
     "output_type": "stream",
     "text": [
      "Month\n",
      "1990-01-01    266.000000\n",
      "1990-01-02    262.125806\n",
      "1990-01-03    258.251613\n",
      "1990-01-04    254.377419\n",
      "1990-01-05    250.503226\n",
      "1990-01-06    246.629032\n",
      "1990-01-07    242.754839\n",
      "1990-01-08    238.880645\n",
      "1990-01-09    235.006452\n",
      "1990-01-10    231.132258\n",
      "1990-01-11    227.258065\n",
      "1990-01-12    223.383871\n",
      "1990-01-13    219.509677\n",
      "1990-01-14    215.635484\n",
      "1990-01-15    211.761290\n",
      "1990-01-16    207.887097\n",
      "1990-01-17    204.012903\n",
      "1990-01-18    200.138710\n",
      "1990-01-19    196.264516\n",
      "1990-01-20    192.390323\n",
      "1990-01-21    188.516129\n",
      "1990-01-22    184.641935\n",
      "1990-01-23    180.767742\n",
      "1990-01-24    176.893548\n",
      "1990-01-25    173.019355\n",
      "1990-01-26    169.145161\n",
      "1990-01-27    165.270968\n",
      "1990-01-28    161.396774\n",
      "1990-01-29    157.522581\n",
      "1990-01-30    153.648387\n",
      "1990-01-31    149.774194\n",
      "1990-02-01    145.900000\n",
      "Freq: D, Name: Sales, dtype: float64\n"
     ]
    },
    {
     "data": {
      "text/plain": [
       "<function matplotlib.pyplot.show(close=None, block=None)>"
      ]
     },
     "execution_count": 12,
     "metadata": {},
     "output_type": "execute_result"
    },
    {
     "data": {
      "image/png": "[encoded data removed]",
      "text/plain": [
       "<Figure size 432x288 with 1 Axes>"
      ]
     },
     "metadata": {
      "needs_background": "light"
     },
     "output_type": "display_data"
    }
   ],
   "source": [
    "# Interpolating the missing values\n",
    "\n",
    "interpolate = upsampled.interpolate(method = 'linear')\n",
    "print(interpolate.head(32))\n",
    "interpolate.plot()\n",
    "plt.show"
   ]
  },
  {
   "cell_type": "code",
   "execution_count": 13,
   "id": "68034e8d",
   "metadata": {},
   "outputs": [
    {
     "name": "stdout",
     "output_type": "stream",
     "text": [
      "Month\n",
      "1990-03-31    198.333333\n",
      "1990-06-30    156.033333\n",
      "1990-09-30    216.366667\n",
      "1990-12-31    215.100000\n",
      "1991-03-31    184.633333\n",
      "1991-06-30    250.566667\n",
      "1991-09-30    273.166667\n",
      "1991-12-31    342.800000\n",
      "1992-03-31    365.333333\n",
      "1992-06-30    426.000000\n",
      "1992-09-30    555.033333\n",
      "1992-12-31    567.833333\n",
      "Freq: Q-DEC, Name: Sales, dtype: float64\n"
     ]
    }
   ],
   "source": [
    "# Downsampling\n",
    "\n",
    "downsampled = sales.resample('Q').mean()\n",
    "print(downsampled.head(32))"
   ]
  },
  {
   "cell_type": "code",
   "execution_count": 14,
   "id": "26df984c",
   "metadata": {},
   "outputs": [
    {
     "data": {
      "image/png": "[encoded data removed]",
      "text/plain": [
       "<Figure size 432x288 with 1 Axes>"
      ]
     },
     "metadata": {
      "needs_background": "light"
     },
     "output_type": "display_data"
    }
   ],
   "source": [
    "downsampled.plot()\n",
    "plt.show()"
   ]
  },
  {
   "cell_type": "markdown",
   "id": "2c334342",
   "metadata": {},
   "source": [
    "# Transformations"
   ]
  },
  {
   "cell_type": "code",
   "execution_count": 21,
   "id": "0509e19e",
   "metadata": {},
   "outputs": [],
   "source": [
    "air = pd.read_csv(\"G:/data sceince/Python/Forecasting/airline-passengers.csv\", header = 0, index_col = 0, parse_dates = True)"
   ]
  },
  {
   "cell_type": "code",
   "execution_count": 43,
   "id": "db08fe96",
   "metadata": {},
   "outputs": [
    {
     "data": {
      "text/html": [
       "<div>\n",
       "<style scoped>\n",
       "    .dataframe tbody tr th:only-of-type {\n",
       "        vertical-align: middle;\n",
       "    }\n",
       "\n",
       "    .dataframe tbody tr th {\n",
       "        vertical-align: top;\n",
       "    }\n",
       "\n",
       "    .dataframe thead th {\n",
       "        text-align: right;\n",
       "    }\n",
       "</style>\n",
       "<table border=\"1\" class=\"dataframe\">\n",
       "  <thead>\n",
       "    <tr style=\"text-align: right;\">\n",
       "      <th></th>\n",
       "      <th>Passengers</th>\n",
       "    </tr>\n",
       "    <tr>\n",
       "      <th>Month</th>\n",
       "      <th></th>\n",
       "    </tr>\n",
       "  </thead>\n",
       "  <tbody>\n",
       "    <tr>\n",
       "      <th>1949-01-01</th>\n",
       "      <td>112</td>\n",
       "    </tr>\n",
       "    <tr>\n",
       "      <th>1949-02-01</th>\n",
       "      <td>118</td>\n",
       "    </tr>\n",
       "    <tr>\n",
       "      <th>1949-03-01</th>\n",
       "      <td>132</td>\n",
       "    </tr>\n",
       "    <tr>\n",
       "      <th>1949-04-01</th>\n",
       "      <td>129</td>\n",
       "    </tr>\n",
       "    <tr>\n",
       "      <th>1949-05-01</th>\n",
       "      <td>121</td>\n",
       "    </tr>\n",
       "  </tbody>\n",
       "</table>\n",
       "</div>"
      ],
      "text/plain": [
       "            Passengers\n",
       "Month                 \n",
       "1949-01-01         112\n",
       "1949-02-01         118\n",
       "1949-03-01         132\n",
       "1949-04-01         129\n",
       "1949-05-01         121"
      ]
     },
     "execution_count": 43,
     "metadata": {},
     "output_type": "execute_result"
    }
   ],
   "source": [
    "air.head()"
   ]
  },
  {
   "cell_type": "code",
   "execution_count": 30,
   "id": "15b96e29",
   "metadata": {},
   "outputs": [
    {
     "name": "stdout",
     "output_type": "stream",
     "text": [
      "<class 'pandas.core.frame.DataFrame'>\n",
      "DatetimeIndex: 144 entries, 1949-01-01 to 1960-12-01\n",
      "Data columns (total 1 columns):\n",
      " #   Column      Non-Null Count  Dtype\n",
      "---  ------      --------------  -----\n",
      " 0   Passengers  144 non-null    int64\n",
      "dtypes: int64(1)\n",
      "memory usage: 6.3 KB\n"
     ]
    }
   ],
   "source": [
    "air.info()"
   ]
  },
  {
   "cell_type": "code",
   "execution_count": 24,
   "id": "5c077ca9",
   "metadata": {},
   "outputs": [
    {
     "data": {
      "text/plain": [
       "(array([24., 27., 19., 18., 22., 13., 10.,  6.,  3.,  2.]),\n",
       " array([104. , 155.8, 207.6, 259.4, 311.2, 363. , 414.8, 466.6, 518.4,\n",
       "        570.2, 622. ]),\n",
       " <BarContainer object of 10 artists>)"
      ]
     },
     "execution_count": 24,
     "metadata": {},
     "output_type": "execute_result"
    },
    {
     "data": {
      "image/png": "[encoded data removed]",
      "text/plain": [
       "<Figure size 432x288 with 2 Axes>"
      ]
     },
     "metadata": {
      "needs_background": "light"
     },
     "output_type": "display_data"
    }
   ],
   "source": [
    "# line plot\n",
    "plt.subplot(211)\n",
    "plt.plot(air)\n",
    "\n",
    "# Histogram\n",
    "plt.subplot(212)\n",
    "plt.hist(air)"
   ]
  },
  {
   "cell_type": "markdown",
   "id": "02338475",
   "metadata": {},
   "source": [
    "As the data is a skewed data so in order to convert this data into stationary format we will perform transformations on the data"
   ]
  },
  {
   "cell_type": "markdown",
   "id": "b7cf03dc",
   "metadata": {},
   "source": [
    "## Square root Transformation"
   ]
  },
  {
   "cell_type": "code",
   "execution_count": 25,
   "id": "3d9e4ee3",
   "metadata": {},
   "outputs": [],
   "source": [
    "from numpy import sqrt"
   ]
  },
  {
   "cell_type": "code",
   "execution_count": 45,
   "id": "e7977552",
   "metadata": {},
   "outputs": [],
   "source": [
    "# converting the data into dataframe format\n",
    "\n",
    "air_df = pd.DataFrame(air.values)\n",
    "air_df.columns = ['passengers']\n",
    "air_df['passengers'] = sqrt(air_df['passengers'])                 # we cannot transform the time series hence applying transformation on passengers column only"
   ]
  },
  {
   "cell_type": "code",
   "execution_count": 47,
   "id": "c1fb394b",
   "metadata": {},
   "outputs": [
    {
     "data": {
      "image/png": "[encoded data removed]",
      "text/plain": [
       "<Figure size 432x288 with 2 Axes>"
      ]
     },
     "metadata": {
      "needs_background": "light"
     },
     "output_type": "display_data"
    }
   ],
   "source": [
    "# line plot\n",
    "plt.subplot(211)\n",
    "plt.plot(air_df['passengers'])\n",
    "\n",
    "#Histogram\n",
    "plt.subplot(212)\n",
    "plt.hist(air_df['passengers'])\n",
    "plt.show()"
   ]
  },
  {
   "cell_type": "markdown",
   "id": "01d3284e",
   "metadata": {},
   "source": [
    "## Logarithmic Transformation"
   ]
  },
  {
   "cell_type": "code",
   "execution_count": 49,
   "id": "34b82f70",
   "metadata": {},
   "outputs": [
    {
     "data": {
      "image/png": "[encoded data removed]",
      "text/plain": [
       "<Figure size 432x288 with 2 Axes>"
      ]
     },
     "metadata": {
      "needs_background": "light"
     },
     "output_type": "display_data"
    }
   ],
   "source": [
    "from numpy import log\n",
    "air_df['passengers'] = log(air_df['passengers']) \n",
    "\n",
    "# line plot\n",
    "plt.subplot(211)\n",
    "plt.plot(air_df['passengers'])\n",
    "\n",
    "#Histogram\n",
    "plt.subplot(212)\n",
    "plt.hist(air_df['passengers'])\n",
    "plt.show()"
   ]
  },
  {
   "cell_type": "markdown",
   "id": "bddf6fdc",
   "metadata": {},
   "source": [
    "## Exponential Transformation"
   ]
  },
  {
   "cell_type": "code",
   "execution_count": 50,
   "id": "6639a22b",
   "metadata": {},
   "outputs": [],
   "source": [
    "from numpy import exp"
   ]
  },
  {
   "cell_type": "code",
   "execution_count": 51,
   "id": "8e4f404a",
   "metadata": {},
   "outputs": [
    {
     "data": {
      "image/png": "[encoded data removed]",
      "text/plain": [
       "<Figure size 432x288 with 2 Axes>"
      ]
     },
     "metadata": {
      "needs_background": "light"
     },
     "output_type": "display_data"
    }
   ],
   "source": [
    "air_df['passengers'] = exp(air_df['passengers']) \n",
    "\n",
    "# line plot\n",
    "plt.subplot(211)\n",
    "plt.plot(air_df['passengers'])\n",
    "\n",
    "#Histogram\n",
    "plt.subplot(212)\n",
    "plt.hist(air_df['passengers'])\n",
    "plt.show()"
   ]
  },
  {
   "cell_type": "code",
   "execution_count": null,
   "id": "76cb1a34",
   "metadata": {},
   "outputs": [],
   "source": []
  }
 ],
 "metadata": {
  "kernelspec": {
   "display_name": "Python 3",
   "language": "python",
   "name": "python3"
  },
  "language_info": {
   "codemirror_mode": {
    "name": "ipython",
    "version": 3
   },
   "file_extension": ".py",
   "mimetype": "text/x-python",
   "name": "python",
   "nbconvert_exporter": "python",
   "pygments_lexer": "ipython3",
   "version": "3.8.8"
  },
  "toc": {
   "base_numbering": 1,
   "nav_menu": {},
   "number_sections": true,
   "sideBar": true,
   "skip_h1_title": false,
   "title_cell": "Table of Contents",
   "title_sidebar": "Contents",
   "toc_cell": false,
   "toc_position": {},
   "toc_section_display": true,
   "toc_window_display": false
  }
 },
 "nbformat": 4,
 "nbformat_minor": 5
}
